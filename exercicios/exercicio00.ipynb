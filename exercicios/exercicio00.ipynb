{
 "cells": [
  {
   "cell_type": "markdown",
   "metadata": {
    "collapsed": false,
    "pycharm": {
     "name": "#%% md\n"
    }
   },
   "source": [
    "## Exercícios - aula 00"
   ]
  },
  {
   "cell_type": "markdown",
   "metadata": {
    "collapsed": false,
    "pycharm": {
     "name": "#%% md\n"
    }
   },
   "source": [
    "1) Quantos segundos há em uma hora? Multiplique o número de segundos em um minuto pelo número de minutos em uma hora.\n",
    "\n",
    "2) Armazene o resultado desta operacão em uma variável chamada *segundos_por_hora*\n",
    "\n",
    "3) Quantos segundos há em um dia? Use a sua variável *segundos_por_hora*. Armazene o resultado desta última operacão em uma variável chamada *segundos_por_dia*\n",
    "\n",
    "4) Divida segundos_por_dia por segundos_por_hora. Use a divisão do tipo floating-point division (tabela abaixo) e salve o resultado na variavel *div_float*.\n",
    "\n",
    "5) Divida a variável *segundos_por_dia* por *segundos_por_hora* novamente, porém usando a divisão do tipo integer division (tabela abaixo) e salve o resultado na variável *div_int*.\n",
    "\n",
    "6) Com excessão da casa decimal, o valor obtido na questão 6 é igual ao obtido na questão 5? Faca a comparacão dos resultados e diga qual o tipo de variável o Python retorna como resposta."
   ]
  },
  {
   "attachments": {},
   "cell_type": "markdown",
   "metadata": {},
   "source": [
    "1. Obtendo quantos segundos há em uma hora:\n",
    "- 1 hora tem 60 minutos;\n",
    "- 1 minuto tem 60 segundos;\n",
    "- Com base nesses preceitos será calculado quantos segundos há em uma hora."
   ]
  },
  {
   "cell_type": "code",
   "execution_count": 70,
   "metadata": {},
   "outputs": [],
   "source": [
    "uma_hora = 60 #minutos"
   ]
  },
  {
   "cell_type": "code",
   "execution_count": 71,
   "metadata": {},
   "outputs": [],
   "source": [
    "um_minuto = 60 #segundos"
   ]
  },
  {
   "cell_type": "code",
   "execution_count": 72,
   "metadata": {},
   "outputs": [],
   "source": [
    "segundos_hora = um_minuto * uma_hora"
   ]
  },
  {
   "cell_type": "code",
   "execution_count": 73,
   "metadata": {},
   "outputs": [
    {
     "name": "stdout",
     "output_type": "stream",
     "text": [
      "3600\n"
     ]
    }
   ],
   "source": [
    "print(segundos_hora)"
   ]
  },
  {
   "attachments": {},
   "cell_type": "markdown",
   "metadata": {},
   "source": [
    "2. Armazenando o resultado desta operacão em uma variável chamada *segundos_por_hora*:"
   ]
  },
  {
   "cell_type": "code",
   "execution_count": 74,
   "metadata": {},
   "outputs": [],
   "source": [
    "segundos_por_hora = segundos_hora"
   ]
  },
  {
   "cell_type": "code",
   "execution_count": 75,
   "metadata": {},
   "outputs": [
    {
     "name": "stdout",
     "output_type": "stream",
     "text": [
      "3600\n"
     ]
    }
   ],
   "source": [
    "print(segundos_por_hora)"
   ]
  },
  {
   "attachments": {},
   "cell_type": "markdown",
   "metadata": {},
   "source": [
    "3. Obtendo a quantidade de segundos em um dia:\n",
    "- 1 dia possui 24 horas."
   ]
  },
  {
   "cell_type": "code",
   "execution_count": 76,
   "metadata": {},
   "outputs": [],
   "source": [
    "horas_por_dia = 24"
   ]
  },
  {
   "cell_type": "code",
   "execution_count": 77,
   "metadata": {},
   "outputs": [],
   "source": [
    "segundos_por_dia = segundos_por_hora * horas_por_dia"
   ]
  },
  {
   "cell_type": "code",
   "execution_count": 78,
   "metadata": {},
   "outputs": [
    {
     "name": "stdout",
     "output_type": "stream",
     "text": [
      "86400\n"
     ]
    }
   ],
   "source": [
    "print(segundos_por_dia)"
   ]
  },
  {
   "attachments": {},
   "cell_type": "markdown",
   "metadata": {},
   "source": [
    "4. Dividindo segundos_por_dia por segundos_por_hora. \n",
    "- Para isso, será utilizado a divisão do tipo floating-point division;\n",
    "- E, em seguida o resultado será salvo na variavel *div_float*.\n"
   ]
  },
  {
   "cell_type": "code",
   "execution_count": 79,
   "metadata": {},
   "outputs": [],
   "source": [
    "div_float = segundos_por_dia/segundos_por_hora"
   ]
  },
  {
   "cell_type": "code",
   "execution_count": 80,
   "metadata": {},
   "outputs": [
    {
     "name": "stdout",
     "output_type": "stream",
     "text": [
      "24.0\n"
     ]
    }
   ],
   "source": [
    "print(div_float)"
   ]
  },
  {
   "attachments": {},
   "cell_type": "markdown",
   "metadata": {},
   "source": [
    "5. Dividindo a variável *segundos_por_dia* por *segundos_por_hora* novamente. \n",
    "- Porém usando a divisão do tipo integer division;\n",
    "- Por fim, o resultado será salvo na variável *div_int*."
   ]
  },
  {
   "cell_type": "code",
   "execution_count": 81,
   "metadata": {},
   "outputs": [],
   "source": [
    "div_int = segundos_por_dia//segundos_por_hora"
   ]
  },
  {
   "cell_type": "code",
   "execution_count": 82,
   "metadata": {},
   "outputs": [
    {
     "name": "stdout",
     "output_type": "stream",
     "text": [
      "24\n"
     ]
    }
   ],
   "source": [
    "print(div_int)"
   ]
  },
  {
   "attachments": {},
   "cell_type": "markdown",
   "metadata": {},
   "source": [
    "6. Com excessão da casa decimal, o valor obtido na questão 5 é igual ao obtido na questão 4? Faca a comparacão dos resultados e diga qual o tipo de variável o Python retorna como resposta."
   ]
  },
  {
   "attachments": {},
   "cell_type": "markdown",
   "metadata": {},
   "source": [
    "Na questão 4 por utilizar a divisão do tipo floating-point division seu resultado apresentou a parte decimal, ou seja, a operação de divisão ocorre até a capacidade de um número de flutuação. Já a questão 5, foi utilizado a divisão do tipo integer division, logo a saída da divisão foi um número inteiro e a sua parte decimal foi ignorada, ou seja, obtém-se apenas a parte do quociente. "
   ]
  }
 ],
 "metadata": {
  "kernelspec": {
   "display_name": "Python 3",
   "language": "python",
   "name": "python3"
  },
  "language_info": {
   "codemirror_mode": {
    "name": "ipython",
    "version": 3
   },
   "file_extension": ".py",
   "mimetype": "text/x-python",
   "name": "python",
   "nbconvert_exporter": "python",
   "pygments_lexer": "ipython3",
   "version": "3.10.4"
  },
  "vscode": {
   "interpreter": {
    "hash": "3ad933181bd8a04b432d3370b9dc3b0662ad032c4dfaa4e4f1596c548f763858"
   }
  }
 },
 "nbformat": 4,
 "nbformat_minor": 0
}
